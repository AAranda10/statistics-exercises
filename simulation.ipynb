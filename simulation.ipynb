{
 "cells": [
  {
   "cell_type": "code",
   "execution_count": 3,
   "metadata": {},
   "outputs": [],
   "source": [
    "import numpy as np\n",
    "import pandas as pd"
   ]
  },
  {
   "cell_type": "code",
   "execution_count": 85,
   "metadata": {},
   "outputs": [
    {
     "data": {
      "text/plain": [
       "0.1701"
      ]
     },
     "execution_count": 85,
     "metadata": {},
     "output_type": "execute_result"
    }
   ],
   "source": [
    "#1\n",
    "#First I setup 2 values to be the rows and columns to input into the random.choice funtion to return the values\n",
    "simulation = nrows = 10000\n",
    "dice = ncols = 2\n",
    "#Here I listed out all the numbers for each side of the dice then input the rows * columns to get the list of outcomes\n",
    "rolls = np.random.choice([1, 2, 3, 4, 5, 6], simulation * dice).reshape(nrows, ncols)\n",
    "#I first used the pd.DataFrame to create a dataframe out of the values to make it easier to use the lambda function\n",
    "#Then here I created a lambda function to return the average of the values where the first column equals the second column\n",
    "roll_double = (pd.DataFrame(rolls).apply(lambda roll: roll[0] == roll[1], axis=1).mean())\n",
    "roll_double"
   ]
  },
  {
   "cell_type": "code",
   "execution_count": 79,
   "metadata": {},
   "outputs": [
    {
     "data": {
      "text/plain": [
       "0.2194"
      ]
     },
     "execution_count": 79,
     "metadata": {},
     "output_type": "execute_result"
    }
   ],
   "source": [
    "#2a\n",
    "#Same as above, I setup the rows and columns\n",
    "simulation = nrows = 10000\n",
    "coins = ncols = 8\n",
    "#Here I inputed the sides of each head names to run the coin flip simulation\n",
    "flips = np.random.choice([\"heads\", \"tails\"], simulation * coins).reshape(nrows, ncols)\n",
    "#I first started with a lambda function that would only return true for all the heads\n",
    "#Then I wanted to count all the heads in each axis so I used .sum is == 3 so it would return booleans for all the rows that had 3 heads\n",
    "#Lastly I took the mean so I could get the average of all the trues\n",
    "three_heads = (pd.DataFrame(flips).apply(lambda flip: ((flip == \"heads\").sum() == 3), axis=1)).mean()\n",
    "three_heads"
   ]
  },
  {
   "cell_type": "code",
   "execution_count": 80,
   "metadata": {},
   "outputs": [
    {
     "data": {
      "text/plain": [
       "0.6404"
      ]
     },
     "execution_count": 80,
     "metadata": {},
     "output_type": "execute_result"
    }
   ],
   "source": [
    "#2b\n",
    "#Just copied and pasted the above and switched == 3 to > 3 to return all the rows with more than 3 heads\n",
    "simulation = nrows = 10000\n",
    "coins = ncols = 8\n",
    "flips = np.random.choice([\"heads\", \"tails\"], simulation * coins).reshape(nrows, ncols)\n",
    "three_heads = (pd.DataFrame(flips).apply(lambda flip: ((flip == \"heads\").sum() > 3), axis=1)).mean()\n",
    "three_heads"
   ]
  },
  {
   "cell_type": "code",
   "execution_count": 173,
   "metadata": {},
   "outputs": [
    {
     "data": {
      "text/plain": [
       "0.0616"
      ]
     },
     "execution_count": 173,
     "metadata": {},
     "output_type": "execute_result"
    }
   ],
   "source": [
    "#3\n",
    "simulation = nrows = 10000\n",
    "billboards = ncols = 2\n",
    "#I listed out the web dev and data science options which was for every 3 webdev cohorts, there is 1 data science\n",
    "students = np.random.choice([\"WebDev1\", \"WebDev2\", \"WebDev3\", \"DataSci\"], simulation * billboards).reshape(nrows, ncols)\n",
    "#Then I created a function that only returned true if both columns had data science\n",
    "data_sci_billboards = (pd.DataFrame(students).apply(lambda cohort: ((cohort == \"DataSci\").sum()) == 2, axis=1)).mean()\n",
    "data_sci_billboards"
   ]
  },
  {
   "cell_type": "code",
   "execution_count": 176,
   "metadata": {},
   "outputs": [
    {
     "data": {
      "text/plain": [
       "0.608"
      ]
     },
     "execution_count": 176,
     "metadata": {},
     "output_type": "execute_result"
    }
   ],
   "source": [
    "#4\n",
    "#First I created my rows an columns to be 10000 scenarios vs 5 days that codeup is open\n",
    "simulation = nrows = 10000\n",
    "days = ncols = 5\n",
    "#Then I simulated the average of purchases per day being about 3 give or take 1.5 poptarts\n",
    "#You can't buy half a bag of poptarts so I rounded up and down being about 2 to 4 poptarts per day are purchased on average\n",
    "m_th_poptarts = np.random.choice([2, 3, 4], simulation * days).reshape(nrows, ncols)\n",
    "#Once I had the rows, I created a lambda function to subtract the total from the week from 17 for each row\n",
    "#Then I returned booleans for each row that did have at least 1 left and took the mean to get the odds being able to get one on Friday\n",
    "poptarts_left = (pd.DataFrame(m_th_poptarts).apply(lambda poptart: (17 - poptart.sum()) > 1, axis =1)).mean()\n",
    "poptarts_left"
   ]
  },
  {
   "cell_type": "code",
   "execution_count": 177,
   "metadata": {},
   "outputs": [
    {
     "data": {
      "text/plain": [
       "0.217"
      ]
     },
     "execution_count": 177,
     "metadata": {},
     "output_type": "execute_result"
    }
   ],
   "source": [
    "#5\n",
    "#Based on Ryan's coin flip example, I figured out an easier way to do this problem\n",
    "#I created an empty dataframe\n",
    "heights = pd.DataFrame()\n",
    "#Then I filled the dataframe with men and woman random numbers within each range of heights\n",
    "heights[\"men\"] = np.random.normal(178, 8, 10000)\n",
    "heights[\"women\"] = np.random.normal(170, 6, 10000)\n",
    "#Then returned booleans that were true in the situation that the woman was taller than the man\n",
    "w_taller_m = heights.men < heights.women\n",
    "w_taller_m.mean()"
   ]
  },
  {
   "cell_type": "code",
   "execution_count": 166,
   "metadata": {},
   "outputs": [
    {
     "data": {
      "text/plain": [
       "0.9959"
      ]
     },
     "execution_count": 166,
     "metadata": {},
     "output_type": "execute_result"
    }
   ],
   "source": [
    "#6\n",
    "#I first created a dataframe with 2 columns, one for the list of students and one for the odds of getting corrupted\n",
    "corruption = pd.DataFrame()\n",
    "corruption[\"is_corrupted\"] = np.random.choice(range(1, 250), size = 10000)\n",
    "corruption[\"student\"] = np.random.choice(range(1, 50), size = 10000)\n",
    "#Then I wanted to return true for the students who are not that 1 chance that it would crash\n",
    "no_issue = corruption.is_corrupted != 1\n",
    "no_issue.mean()"
   ]
  },
  {
   "cell_type": "code",
   "execution_count": 161,
   "metadata": {},
   "outputs": [
    {
     "data": {
      "text/plain": [
       "0.9953"
      ]
     },
     "execution_count": 161,
     "metadata": {},
     "output_type": "execute_result"
    }
   ],
   "source": [
    "#Same as above then change to 100 students, instead of 50\n",
    "corruption = pd.DataFrame()\n",
    "corruption[\"is_corrupted\"] = np.random.choice(range(1, 250), size = 10000)\n",
    "corruption[\"student\"] = np.random.choice(range(1, 100), size = 10000)\n",
    "no_issue = corruption.is_corrupted > 1\n",
    "no_issue.mean()"
   ]
  },
  {
   "cell_type": "code",
   "execution_count": 170,
   "metadata": {},
   "outputs": [
    {
     "ename": "TypeError",
     "evalue": "object of type 'float' has no len()",
     "output_type": "error",
     "traceback": [
      "\u001b[0;31m---------------------------------------------------------------------------\u001b[0m",
      "\u001b[0;31mTypeError\u001b[0m                                 Traceback (most recent call last)",
      "\u001b[0;32m<ipython-input-170-4bfb8f887bf0>\u001b[0m in \u001b[0;36m<module>\u001b[0;34m\u001b[0m\n\u001b[1;32m      1\u001b[0m \u001b[0;31m#7\u001b[0m\u001b[0;34m\u001b[0m\u001b[0;34m\u001b[0m\u001b[0;34m\u001b[0m\u001b[0m\n\u001b[0;32m----> 2\u001b[0;31m \u001b[0mDays\u001b[0m \u001b[0;34m=\u001b[0m \u001b[0mnp\u001b[0m\u001b[0;34m.\u001b[0m\u001b[0mrandom\u001b[0m\u001b[0;34m.\u001b[0m\u001b[0mchoice\u001b[0m\u001b[0;34m(\u001b[0m\u001b[0;34m[\u001b[0m\u001b[0;34m\"Monday\"\u001b[0m\u001b[0;34m,\u001b[0m \u001b[0;34m\"Tuesday\"\u001b[0m\u001b[0;34m,\u001b[0m \u001b[0;34m\"Wednesday\"\u001b[0m\u001b[0;34m,\u001b[0m \u001b[0;34m\"Thursday\"\u001b[0m\u001b[0;34m,\u001b[0m \u001b[0;34m\"Friday\"\u001b[0m\u001b[0;34m,\u001b[0m \u001b[0;34m\"Saturday\"\u001b[0m\u001b[0;34m,\u001b[0m \u001b[0;34m\"Sunday\"\u001b[0m\u001b[0;34m]\u001b[0m\u001b[0;34m,\u001b[0m \u001b[0msize\u001b[0m\u001b[0;34m=\u001b[0m\u001b[0;36m10000\u001b[0m\u001b[0;34m,\u001b[0m \u001b[0mp\u001b[0m\u001b[0;34m=\u001b[0m \u001b[0;36m.70\u001b[0m\u001b[0;34m)\u001b[0m\u001b[0;34m\u001b[0m\u001b[0;34m\u001b[0m\u001b[0m\n\u001b[0m\u001b[1;32m      3\u001b[0m \u001b[0mDays\u001b[0m\u001b[0;34m\u001b[0m\u001b[0;34m\u001b[0m\u001b[0m\n",
      "\u001b[0;32mmtrand.pyx\u001b[0m in \u001b[0;36mnumpy.random.mtrand.RandomState.choice\u001b[0;34m()\u001b[0m\n",
      "\u001b[0;31mTypeError\u001b[0m: object of type 'float' has no len()"
     ]
    }
   ],
   "source": [
    "#7\n",
    "Days = np.random.choice([\"Monday\", \"Tuesday\", \"Wednesday\", \"Thursday\", \"Friday\", \"Saturday\", \"Sunday\"], size=10000, p= .70)\n",
    "Days"
   ]
  },
  {
   "cell_type": "code",
   "execution_count": 174,
   "metadata": {},
   "outputs": [
    {
     "data": {
      "text/html": [
       "<div>\n",
       "<style scoped>\n",
       "    .dataframe tbody tr th:only-of-type {\n",
       "        vertical-align: middle;\n",
       "    }\n",
       "\n",
       "    .dataframe tbody tr th {\n",
       "        vertical-align: top;\n",
       "    }\n",
       "\n",
       "    .dataframe thead th {\n",
       "        text-align: right;\n",
       "    }\n",
       "</style>\n",
       "<table border=\"1\" class=\"dataframe\">\n",
       "  <thead>\n",
       "    <tr style=\"text-align: right;\">\n",
       "      <th></th>\n",
       "      <th>day</th>\n",
       "      <th>person</th>\n",
       "    </tr>\n",
       "  </thead>\n",
       "  <tbody>\n",
       "    <tr>\n",
       "      <th>0</th>\n",
       "      <td>42</td>\n",
       "      <td>20</td>\n",
       "    </tr>\n",
       "    <tr>\n",
       "      <th>1</th>\n",
       "      <td>348</td>\n",
       "      <td>8</td>\n",
       "    </tr>\n",
       "    <tr>\n",
       "      <th>2</th>\n",
       "      <td>151</td>\n",
       "      <td>9</td>\n",
       "    </tr>\n",
       "    <tr>\n",
       "      <th>3</th>\n",
       "      <td>236</td>\n",
       "      <td>12</td>\n",
       "    </tr>\n",
       "    <tr>\n",
       "      <th>4</th>\n",
       "      <td>136</td>\n",
       "      <td>21</td>\n",
       "    </tr>\n",
       "    <tr>\n",
       "      <th>...</th>\n",
       "      <td>...</td>\n",
       "      <td>...</td>\n",
       "    </tr>\n",
       "    <tr>\n",
       "      <th>9995</th>\n",
       "      <td>73</td>\n",
       "      <td>18</td>\n",
       "    </tr>\n",
       "    <tr>\n",
       "      <th>9996</th>\n",
       "      <td>240</td>\n",
       "      <td>19</td>\n",
       "    </tr>\n",
       "    <tr>\n",
       "      <th>9997</th>\n",
       "      <td>53</td>\n",
       "      <td>22</td>\n",
       "    </tr>\n",
       "    <tr>\n",
       "      <th>9998</th>\n",
       "      <td>255</td>\n",
       "      <td>4</td>\n",
       "    </tr>\n",
       "    <tr>\n",
       "      <th>9999</th>\n",
       "      <td>208</td>\n",
       "      <td>5</td>\n",
       "    </tr>\n",
       "  </tbody>\n",
       "</table>\n",
       "<p>10000 rows × 2 columns</p>\n",
       "</div>"
      ],
      "text/plain": [
       "      day  person\n",
       "0      42      20\n",
       "1     348       8\n",
       "2     151       9\n",
       "3     236      12\n",
       "4     136      21\n",
       "...   ...     ...\n",
       "9995   73      18\n",
       "9996  240      19\n",
       "9997   53      22\n",
       "9998  255       4\n",
       "9999  208       5\n",
       "\n",
       "[10000 rows x 2 columns]"
      ]
     },
     "execution_count": 174,
     "metadata": {},
     "output_type": "execute_result"
    }
   ],
   "source": [
    "birthdays = pd.DataFrame()\n",
    "birthdays[\"day\"] = np.random.choice(range(1, 365), size = 10000)\n",
    "birthdays[\"person\"] = np.random.choice(range(1,23), size = 10000)\n",
    "same_birthday = "
   ]
  },
  {
   "cell_type": "code",
   "execution_count": null,
   "metadata": {},
   "outputs": [],
   "source": []
  }
 ],
 "metadata": {
  "kernelspec": {
   "display_name": "Python 3",
   "language": "python",
   "name": "python3"
  },
  "language_info": {
   "codemirror_mode": {
    "name": "ipython",
    "version": 3
   },
   "file_extension": ".py",
   "mimetype": "text/x-python",
   "name": "python",
   "nbconvert_exporter": "python",
   "pygments_lexer": "ipython3",
   "version": "3.8.3"
  }
 },
 "nbformat": 4,
 "nbformat_minor": 4
}
