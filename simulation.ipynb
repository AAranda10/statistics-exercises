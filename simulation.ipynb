{
 "cells": [
  {
   "cell_type": "code",
   "execution_count": 3,
   "metadata": {},
   "outputs": [],
   "source": [
    "import numpy as np\n",
    "import pandas as pd"
   ]
  },
  {
   "cell_type": "code",
   "execution_count": 85,
   "metadata": {},
   "outputs": [
    {
     "data": {
      "text/plain": [
       "0.1701"
      ]
     },
     "execution_count": 85,
     "metadata": {},
     "output_type": "execute_result"
    }
   ],
   "source": [
    "#1\n",
    "#First I setup 2 values to be the rows and columns to input into the random.choice funtion to return the values\n",
    "simulation = nrows = 10000\n",
    "dice = ncols = 2\n",
    "#Here I listed out all the numbers for each side of the dice then input the rows * columns to get the list of outcomes\n",
    "rolls = np.random.choice([1, 2, 3, 4, 5, 6], simulation * dice).reshape(nrows, ncols)\n",
    "#I first used the pd.DataFrame to create a dataframe out of the values to make it easier to use the lambda function\n",
    "#Then here I created a lambda function to return the average of the values where the first column equals the second column\n",
    "roll_double = (pd.DataFrame(rolls).apply(lambda roll: roll[0] == roll[1], axis=1).mean())\n",
    "roll_double"
   ]
  },
  {
   "cell_type": "code",
   "execution_count": 79,
   "metadata": {},
   "outputs": [
    {
     "data": {
      "text/plain": [
       "0.2194"
      ]
     },
     "execution_count": 79,
     "metadata": {},
     "output_type": "execute_result"
    }
   ],
   "source": [
    "#2a\n",
    "#Same as above, I setup the rows and columns\n",
    "simulation = nrows = 10000\n",
    "coins = ncols = 8\n",
    "#Here I inputed the sides of each head names to run the coin flip simulation\n",
    "flips = np.random.choice([\"heads\", \"tails\"], simulation * coins).reshape(nrows, ncols)\n",
    "#I first started with a lambda function that would only return true for all the heads\n",
    "#Then I wanted to count all the heads in each axis so I used .sum is == 3 so it would return booleans for all the rows that had 3 heads\n",
    "#Lastly I took the mean so I could get the average of all the trues\n",
    "three_heads = (pd.DataFrame(flips).apply(lambda flip: ((flip == \"heads\").sum() == 3), axis=1)).mean()\n",
    "three_heads"
   ]
  },
  {
   "cell_type": "code",
   "execution_count": 80,
   "metadata": {},
   "outputs": [
    {
     "data": {
      "text/plain": [
       "0.6404"
      ]
     },
     "execution_count": 80,
     "metadata": {},
     "output_type": "execute_result"
    }
   ],
   "source": [
    "#2b\n",
    "#Just copied and pasted the above and switched == 3 to > 3 to return all the rows with more than 3 heads\n",
    "simulation = nrows = 10000\n",
    "coins = ncols = 8\n",
    "flips = np.random.choice([\"heads\", \"tails\"], simulation * coins).reshape(nrows, ncols)\n",
    "three_heads = (pd.DataFrame(flips).apply(lambda flip: ((flip == \"heads\").sum() > 3), axis=1)).mean()\n",
    "three_heads"
   ]
  },
  {
   "cell_type": "code",
   "execution_count": 173,
   "metadata": {},
   "outputs": [
    {
     "data": {
      "text/plain": [
       "0.0616"
      ]
     },
     "execution_count": 173,
     "metadata": {},
     "output_type": "execute_result"
    }
   ],
   "source": [
    "#3\n",
    "simulation = nrows = 10000\n",
    "billboards = ncols = 2\n",
    "#I listed out the web dev and data science options which was for every 3 webdev cohorts, there is 1 data science\n",
    "students = np.random.choice([\"WebDev1\", \"WebDev2\", \"WebDev3\", \"DataSci\"], simulation * billboards).reshape(nrows, ncols)\n",
    "#Then I created a function that only returned true if both columns had data science\n",
    "data_sci_billboards = (pd.DataFrame(students).apply(lambda cohort: ((cohort == \"DataSci\").sum()) == 2, axis=1)).mean()\n",
    "data_sci_billboards"
   ]
  },
  {
   "cell_type": "code",
   "execution_count": 176,
   "metadata": {},
   "outputs": [
    {
     "data": {
      "text/plain": [
       "0.608"
      ]
     },
     "execution_count": 176,
     "metadata": {},
     "output_type": "execute_result"
    }
   ],
   "source": [
    "#4\n",
    "#First I created my rows an columns to be 10000 scenarios vs 5 days that codeup is open\n",
    "simulation = nrows = 10000\n",
    "days = ncols = 5\n",
    "#Then I simulated the average of purchases per day being about 3 give or take 1.5 poptarts\n",
    "#You can't buy half a bag of poptarts so I rounded up and down being about 2 to 4 poptarts per day are purchased on average\n",
    "m_th_poptarts = np.random.choice([2, 3, 4], simulation * days).reshape(nrows, ncols)\n",
    "#Once I had the rows, I created a lambda function to subtract the total from the week from 17 for each row\n",
    "#Then I returned booleans for each row that did have at least 1 left and took the mean to get the odds being able to get one on Friday\n",
    "poptarts_left = (pd.DataFrame(m_th_poptarts).apply(lambda poptart: (17 - poptart.sum()) > 1, axis =1)).mean()\n",
    "poptarts_left"
   ]
  },
  {
   "cell_type": "code",
   "execution_count": 177,
   "metadata": {},
   "outputs": [
    {
     "data": {
      "text/plain": [
       "0.217"
      ]
     },
     "execution_count": 177,
     "metadata": {},
     "output_type": "execute_result"
    }
   ],
   "source": [
    "#5\n",
    "#Based on Ryan's coin flip example, I figured out an easier way to do this problem\n",
    "#I created an empty dataframe\n",
    "heights = pd.DataFrame()\n",
    "#Then I filled the dataframe with men and woman random numbers within each range of heights\n",
    "heights[\"men\"] = np.random.normal(178, 8, 10000)\n",
    "heights[\"women\"] = np.random.normal(170, 6, 10000)\n",
    "#Then returned booleans that were true in the situation that the woman was taller than the man\n",
    "w_taller_m = heights.men < heights.women\n",
    "w_taller_m.mean()"
   ]
  },
  {
   "cell_type": "code",
   "execution_count": 199,
   "metadata": {},
   "outputs": [
    {
     "data": {
      "text/plain": [
       "0.8159"
      ]
     },
     "execution_count": 199,
     "metadata": {},
     "output_type": "execute_result"
    }
   ],
   "source": [
    "#6a\n",
    "#I wrote out 0 to be failed and 1 to be passed, then added the probability to add the weight\n",
    "installs = np.random.choice([0, 1], size = (10000, 50), p= (1/250, 249/250))\n",
    "#Then I wanted to return true for the students who are not that 1 chance that it would crash\n",
    "no_issues = (pd.DataFrame(installs).apply(lambda install: install.sum() == 50, axis=1))\n",
    "no_issues.mean()"
   ]
  },
  {
   "cell_type": "code",
   "execution_count": 205,
   "metadata": {},
   "outputs": [
    {
     "data": {
      "text/plain": [
       "0.6691"
      ]
     },
     "execution_count": 205,
     "metadata": {},
     "output_type": "execute_result"
    }
   ],
   "source": [
    "#6b\n",
    "#Same as above then change to 100 students, instead of 50\n",
    "installs = np.random.choice([0, 1], size = (10000, 100), p= (1/250, 249/250))\n",
    "#Then I wanted to return true for the students who are not that 1 chance that it would crash\n",
    "no_issues = (pd.DataFrame(installs).apply(lambda install: install.sum() == 100, axis=1))\n",
    "no_issues.mean()"
   ]
  },
  {
   "cell_type": "code",
   "execution_count": 207,
   "metadata": {},
   "outputs": [
    {
     "data": {
      "text/plain": [
       "0.4598"
      ]
     },
     "execution_count": 207,
     "metadata": {},
     "output_type": "execute_result"
    }
   ],
   "source": [
    "#6c\n",
    "#Same as above then change to 100 students, instead of 50\n",
    "installs = np.random.choice([0, 1], size = (10000, 150), p= (1/250, 249/250))\n",
    "#Instead of equaling to 150, I switched it to less than to take into account all the ones that crashed\n",
    "no_issues = (pd.DataFrame(installs).apply(lambda install: install.sum() < 150, axis=1))\n",
    "no_issues.mean()"
   ]
  },
  {
   "cell_type": "code",
   "execution_count": 208,
   "metadata": {},
   "outputs": [
    {
     "data": {
      "text/plain": [
       "0.1655"
      ]
     },
     "execution_count": 208,
     "metadata": {},
     "output_type": "execute_result"
    }
   ],
   "source": [
    "#6d\n",
    "#Same as above then change to 450 students, instead of 100\n",
    "installs = np.random.choice([0, 1], size = (10000, 450), p= (1/250, 249/250))\n",
    "#Then I wanted to return true for the students who are not that 1 chance that it would crash\n",
    "no_issues = (pd.DataFrame(installs).apply(lambda install: install.sum() == 450, axis=1))\n",
    "no_issues.mean()"
   ]
  },
  {
   "cell_type": "code",
   "execution_count": 246,
   "metadata": {},
   "outputs": [
    {
     "data": {
      "text/plain": [
       "0.122"
      ]
     },
     "execution_count": 246,
     "metadata": {},
     "output_type": "execute_result"
    }
   ],
   "source": [
    "#7a\n",
    "#First I wanted to create a dataframe with all the values for each day\n",
    "trucks = pd.DataFrame()\n",
    "# The options I put in were 0 for a truck is not there, and 1 for a truck is there\n",
    "trucks[\"day1\"] = np.random.choice([0, 1], 10000)\n",
    "trucks[\"day2\"] = np.random.choice([0, 1], 10000)\n",
    "trucks[\"day3\"] = np.random.choice([0, 1], 10000)\n",
    "#Then I wanted to have a boolean return all the trues that equal zero for no trucks\n",
    "truck_not_there = (trucks.sum(axis=1)) == 0\n",
    "truck_not_there.mean()"
   ]
  },
  {
   "cell_type": "code",
   "execution_count": 243,
   "metadata": {},
   "outputs": [
    {
     "data": {
      "text/plain": [
       "0.992"
      ]
     },
     "execution_count": 243,
     "metadata": {},
     "output_type": "execute_result"
    }
   ],
   "source": [
    "#7b\n",
    "#Same as above but I added more days to account for the week\n",
    "trucks = pd.DataFrame()\n",
    "trucks[\"day1\"] = np.random.choice([0, 1], 10000)\n",
    "trucks[\"day2\"] = np.random.choice([0, 1], 10000)\n",
    "trucks[\"day3\"] = np.random.choice([0, 1], 10000)\n",
    "trucks[\"day4\"] = np.random.choice([0, 1], 10000)\n",
    "trucks[\"day5\"] = np.random.choice([0, 1], 10000)\n",
    "trucks[\"day6\"] = np.random.choice([0, 1], 10000)\n",
    "trucks[\"day7\"] = np.random.choice([0, 1], 10000)\n",
    "truck_not_there = (trucks.sum(axis=1)) > 0\n",
    "truck_not_there.mean()"
   ]
  },
  {
   "cell_type": "code",
   "execution_count": 247,
   "metadata": {},
   "outputs": [],
   "source": [
    "#8"
   ]
  },
  {
   "cell_type": "code",
   "execution_count": null,
   "metadata": {},
   "outputs": [],
   "source": []
  }
 ],
 "metadata": {
  "kernelspec": {
   "display_name": "Python 3",
   "language": "python",
   "name": "python3"
  },
  "language_info": {
   "codemirror_mode": {
    "name": "ipython",
    "version": 3
   },
   "file_extension": ".py",
   "mimetype": "text/x-python",
   "name": "python",
   "nbconvert_exporter": "python",
   "pygments_lexer": "ipython3",
   "version": "3.8.3"
  }
 },
 "nbformat": 4,
 "nbformat_minor": 4
}
