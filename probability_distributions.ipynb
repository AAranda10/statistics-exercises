{
 "cells": [
  {
   "cell_type": "code",
   "execution_count": 1,
   "metadata": {},
   "outputs": [],
   "source": [
    "import matplotlib.pyplot as plt\n",
    "import numpy as np\n",
    "import pandas as pd\n",
    "from scipy import stats"
   ]
  },
  {
   "cell_type": "code",
   "execution_count": 2,
   "metadata": {},
   "outputs": [
    {
     "data": {
      "text/plain": [
       "0.13548"
      ]
     },
     "execution_count": 2,
     "metadata": {},
     "output_type": "execute_result"
    }
   ],
   "source": [
    "#1a\n",
    "#Experimental\n",
    "#First I used random.poisson to get the poisson distribution and set it to the mean of 2\n",
    "cars = np.random.poisson(2, 100000)\n",
    "#Then I wanted only the values equal to 2\n",
    "no_cars = cars == 0\n",
    "no_cars.mean()"
   ]
  },
  {
   "cell_type": "code",
   "execution_count": 3,
   "metadata": {},
   "outputs": [
    {
     "data": {
      "text/plain": [
       "0.1353352832366127"
      ]
     },
     "execution_count": 3,
     "metadata": {},
     "output_type": "execute_result"
    }
   ],
   "source": [
    "#Theoretical\n",
    "#I used the poisson function to create a poisson distribution\n",
    "#Then pmf to return the probability of getting 0\n",
    "s_cars = stats.poisson(2).pmf(0)\n",
    "s_cars"
   ]
  },
  {
   "cell_type": "code",
   "execution_count": 4,
   "metadata": {},
   "outputs": [
    {
     "data": {
      "text/plain": [
       "0.3253"
      ]
     },
     "execution_count": 4,
     "metadata": {},
     "output_type": "execute_result"
    }
   ],
   "source": [
    "#1b\n",
    "#Experimental\n",
    "#Same method as above, just changed the == 0 to >= 3 to return only the values True if greater than equal 3\n",
    "cars = np.random.poisson(2, 100000)\n",
    "no_cars = cars >= 3\n",
    "no_cars.mean()"
   ]
  },
  {
   "cell_type": "code",
   "execution_count": 5,
   "metadata": {},
   "outputs": [
    {
     "data": {
      "text/plain": [
       "0.32332358381693654"
      ]
     },
     "execution_count": 5,
     "metadata": {},
     "output_type": "execute_result"
    }
   ],
   "source": [
    "#Theoretical\n",
    "#This time I used the sf function to return the probability for any number greater than 2 which is 3 or higher\n",
    "s_cars = stats.poisson(2).sf(2)\n",
    "s_cars"
   ]
  },
  {
   "cell_type": "code",
   "execution_count": 6,
   "metadata": {},
   "outputs": [
    {
     "data": {
      "text/plain": [
       "0.86405"
      ]
     },
     "execution_count": 6,
     "metadata": {},
     "output_type": "execute_result"
    }
   ],
   "source": [
    "#1c\n",
    "#Experimental\n",
    "cars = np.random.poisson(2, 100000)\n",
    "#Then I wanted only the values greater than 0 for at least 1 car arrived\n",
    "no_cars = cars > 0\n",
    "no_cars.mean()"
   ]
  },
  {
   "cell_type": "code",
   "execution_count": 7,
   "metadata": {},
   "outputs": [
    {
     "data": {
      "text/plain": [
       "0.8646647167633873"
      ]
     },
     "execution_count": 7,
     "metadata": {},
     "output_type": "execute_result"
    }
   ],
   "source": [
    "#Theoretical\n",
    "#This time I used the sf function to return the probability for at least 1 car or more arrives\n",
    "s_cars = stats.poisson(2).sf(0)\n",
    "s_cars"
   ]
  },
  {
   "cell_type": "code",
   "execution_count": 8,
   "metadata": {},
   "outputs": [
    {
     "data": {
      "text/plain": [
       "3.4929365758845794"
      ]
     },
     "execution_count": 8,
     "metadata": {},
     "output_type": "execute_result"
    }
   ],
   "source": [
    "#2a\n",
    "#Experimental\n",
    "#I first decided I needed to use .random.normal because it is a normal distribution\n",
    "#Then I inputed the mean and standard deviation\n",
    "grades = np.random.normal(3.0, .3, 100000)\n",
    "#From here, it was easier to switch the values into a panda series to easily grab the top 5 percent using quantile\n",
    "pd.Series(grades).quantile(.95)"
   ]
  },
  {
   "cell_type": "code",
   "execution_count": 9,
   "metadata": {},
   "outputs": [
    {
     "data": {
      "text/plain": [
       "3.4934560880854417"
      ]
     },
     "execution_count": 9,
     "metadata": {},
     "output_type": "execute_result"
    }
   ],
   "source": [
    "#Theoretical\n",
    "#Same as above, once I figured out it was a normal distribution, I used the .norm to reflect\n",
    "#Then put it the mean and sd\n",
    "#Lastly I used the ppf function to input the percentage I wanted to return the value for that percentage\n",
    "s_grades = stats.norm(3.0, .3).ppf(.95)\n",
    "s_grades"
   ]
  },
  {
   "cell_type": "code",
   "execution_count": 10,
   "metadata": {},
   "outputs": [
    {
     "data": {
      "text/plain": [
       "2.685818110858662"
      ]
     },
     "execution_count": 10,
     "metadata": {},
     "output_type": "execute_result"
    }
   ],
   "source": [
    "#2b\n",
    "#Experimental\n",
    "#Same as above, just changed the value to return the 15 percent\n",
    "grades = np.random.normal(3.0, .3, 100000)\n",
    "pd.Series(grades).quantile(.15)"
   ]
  },
  {
   "cell_type": "code",
   "execution_count": 11,
   "metadata": {},
   "outputs": [
    {
     "data": {
      "text/plain": [
       "2.689069983151863"
      ]
     },
     "execution_count": 11,
     "metadata": {},
     "output_type": "execute_result"
    }
   ],
   "source": [
    "#Theoretical\n",
    "#This time I used the ppf function because it will include 15 percent and below\n",
    "s_grades = stats.norm(3.0, .3).ppf(.15)\n",
    "s_grades"
   ]
  },
  {
   "cell_type": "code",
   "execution_count": 61,
   "metadata": {},
   "outputs": [
    {
     "data": {
      "text/plain": [
       "0.2    2.749214\n",
       "0.3    2.844163\n",
       "dtype: float64"
      ]
     },
     "execution_count": 61,
     "metadata": {},
     "output_type": "execute_result"
    }
   ],
   "source": [
    "#2c\n",
    "#Experimental\n",
    "#Same as above, but I used the 30th percentile to cover the 3rd decile\n",
    "grades = np.random.normal(3.0, .3, 100000)\n",
    "pd.Series(grades).quantile([.20, .30])"
   ]
  },
  {
   "cell_type": "code",
   "execution_count": 62,
   "metadata": {},
   "outputs": [
    {
     "data": {
      "text/plain": [
       "array([2.74751363, 2.84267985])"
      ]
     },
     "execution_count": 62,
     "metadata": {},
     "output_type": "execute_result"
    }
   ],
   "source": [
    "#Theoretical\n",
    "#I used the ppf to cover the bottom 30 percentile\n",
    "#Yes a 2.8 would barely qualify for a scholarship since it's 2.84 and below.\n",
    "s_grades = stats.norm(3.0, .3).ppf([.20, .30])\n",
    "s_grades"
   ]
  },
  {
   "cell_type": "code",
   "execution_count": 66,
   "metadata": {},
   "outputs": [
    {
     "data": {
      "text/plain": [
       "0.9544"
      ]
     },
     "execution_count": 66,
     "metadata": {},
     "output_type": "execute_result"
    }
   ],
   "source": [
    "#2c\n",
    "#Experimental\n",
    "#This was already answered above with the top 5 percent question\n",
    "# The student would be in the 95th percentile\n",
    "grades = np.random.normal(3.0, .3, 10000)\n",
    "top_5 = 1 - (pd.Series(grades) >= 3.5)\n",
    "top_5.mean()"
   ]
  },
  {
   "cell_type": "code",
   "execution_count": 63,
   "metadata": {},
   "outputs": [
    {
     "data": {
      "text/plain": [
       "0.9522096477271853"
      ]
     },
     "execution_count": 63,
     "metadata": {},
     "output_type": "execute_result"
    }
   ],
   "source": [
    "#Theoritcal\n",
    "#Same as above\n",
    "s_grades = stats.norm(3.0, .3).cdf(3.5)\n",
    "s_grades"
   ]
  },
  {
   "cell_type": "code",
   "execution_count": 69,
   "metadata": {},
   "outputs": [
    {
     "data": {
      "text/plain": [
       "0.14028"
      ]
     },
     "execution_count": 69,
     "metadata": {},
     "output_type": "execute_result"
    }
   ],
   "source": [
    "#3\n",
    "#Experimental\n",
    "#For this question, I first had to figure out what type of distribution it was, I figured binomial since it's based on attempts vs successes\n",
    "#Then I inputed the data provided to be 4326 attempts and the percent of success\n",
    "clicks = np.random.binomial(4326, .02, 100000)\n",
    "#After that, I wanted to return the odds of getting 97 clicks\n",
    "one_day_clicks = clicks >= 97\n",
    "one_day_clicks.mean()"
   ]
  },
  {
   "cell_type": "code",
   "execution_count": 72,
   "metadata": {},
   "outputs": [
    {
     "data": {
      "text/plain": [
       "0.1397582363130086"
      ]
     },
     "execution_count": 72,
     "metadata": {},
     "output_type": "execute_result"
    }
   ],
   "source": [
    "#Theoretical\n",
    "#Same concept as above, but using the stats function for binomial and submitting the inputs to return the probability\n",
    "s_clicks = stats.binom(4326, .02).sf(96)\n",
    "s_clicks"
   ]
  },
  {
   "cell_type": "code",
   "execution_count": 18,
   "metadata": {},
   "outputs": [
    {
     "data": {
      "text/plain": [
       "0.45188"
      ]
     },
     "execution_count": 18,
     "metadata": {},
     "output_type": "execute_result"
    }
   ],
   "source": [
    "#4\n",
    "#experimental\n",
    "#I first needed to figure out how many answer choices the student could randomly pick from\n",
    "#I figured this out with simple math, there are up to the hundreth decimal place, each place has 10 numbers\n",
    "# 10 * 10 is 100 and there are 100 answer choices so in total, there are 100 answer options for each 100 questions\n",
    "chance = 1 / 100\n",
    "#Then we want to see only the first 60 questions, so I set the binomial function to 60\n",
    "answers = np.random.binomial(60, chance, 100000)\n",
    "got_one_right = answers >= 1\n",
    "got_one_right.mean()"
   ]
  },
  {
   "cell_type": "code",
   "execution_count": 19,
   "metadata": {},
   "outputs": [
    {
     "data": {
      "text/plain": [
       "0.4528433576092388"
      ]
     },
     "execution_count": 19,
     "metadata": {},
     "output_type": "execute_result"
    }
   ],
   "source": [
    "#Theoretical\n",
    "#Same concept as above but used stats binomial instead, then I used the sf to return the probability for anything greater than 1 answer right\n",
    "s_got_one_right = stats.binom(60, chance).sf(0)\n",
    "s_got_one_right"
   ]
  },
  {
   "cell_type": "code",
   "execution_count": 20,
   "metadata": {},
   "outputs": [
    {
     "data": {
      "text/plain": [
       "0.83494"
      ]
     },
     "execution_count": 20,
     "metadata": {},
     "output_type": "execute_result"
    }
   ],
   "source": [
    "#5a\n",
    "#Experimental\n",
    "num_of_students = round(3 * 22 * .9)\n",
    "breakroom = np.random.choice([1, 0], size= (100000, num_of_students), p = [.03, .97])\n",
    "clean_room = (breakroom.sum(axis=1)) > 0\n",
    "clean_room.mean()"
   ]
  },
  {
   "cell_type": "code",
   "execution_count": 21,
   "metadata": {},
   "outputs": [
    {
     "data": {
      "text/plain": [
       "0.8342199288437355"
      ]
     },
     "execution_count": 21,
     "metadata": {},
     "output_type": "execute_result"
    }
   ],
   "source": [
    "#Theoretical\n",
    "s_clean_room = stats.binom(num_of_students, .03).sf(0)\n",
    "s_clean_room"
   ]
  },
  {
   "cell_type": "code",
   "execution_count": 22,
   "metadata": {},
   "outputs": [
    {
     "data": {
      "text/plain": [
       "0.02753"
      ]
     },
     "execution_count": 22,
     "metadata": {},
     "output_type": "execute_result"
    }
   ],
   "source": [
    "#5b\n",
    "#Experimental\n",
    "breakroom = np.random.choice([1, 0], size= (100000, (num_of_students * 2)), p = [.03, .97])\n",
    "clean_room = (breakroom.sum(axis=1)) == 0\n",
    "clean_room.mean()"
   ]
  },
  {
   "cell_type": "code",
   "execution_count": 23,
   "metadata": {},
   "outputs": [
    {
     "data": {
      "text/plain": [
       "0.027483031992576134"
      ]
     },
     "execution_count": 23,
     "metadata": {},
     "output_type": "execute_result"
    }
   ],
   "source": [
    "#Theoretical\n",
    "s_clean_room = stats.binom(num_of_students * 2, .03).cdf(0)\n",
    "s_clean_room"
   ]
  },
  {
   "cell_type": "code",
   "execution_count": 24,
   "metadata": {},
   "outputs": [
    {
     "data": {
      "text/plain": [
       "0.00011"
      ]
     },
     "execution_count": 24,
     "metadata": {},
     "output_type": "execute_result"
    }
   ],
   "source": [
    "#5c\n",
    "#Experimental\n",
    "breakroom = np.random.choice([1, 0], size= (100000, (num_of_students * 5)), p = [.03, .97])\n",
    "clean_room = (breakroom.sum(axis=1)) == 0\n",
    "clean_room.mean()"
   ]
  },
  {
   "cell_type": "code",
   "execution_count": 25,
   "metadata": {},
   "outputs": [
    {
     "data": {
      "text/plain": [
       "0.00012521651388091245"
      ]
     },
     "execution_count": 25,
     "metadata": {},
     "output_type": "execute_result"
    }
   ],
   "source": [
    "#Theoretical\n",
    "s_clean_room = stats.binom(num_of_students * 5, .03).cdf(0)\n",
    "s_clean_room"
   ]
  },
  {
   "cell_type": "code",
   "execution_count": 26,
   "metadata": {},
   "outputs": [
    {
     "data": {
      "text/plain": [
       "0.79902"
      ]
     },
     "execution_count": 26,
     "metadata": {},
     "output_type": "execute_result"
    }
   ],
   "source": [
    "#6\n",
    "#Experimental\n",
    "customers = pd.Series(np.random.normal(15, 3, 100000))\n",
    "order_time = (customers * 2) + 10\n",
    "enough_time = (60 - order_time) > 15\n",
    "enough_time.mean()"
   ]
  },
  {
   "cell_type": "code",
   "execution_count": 27,
   "metadata": {},
   "outputs": [
    {
     "data": {
      "text/plain": [
       "0.7976716190363569"
      ]
     },
     "execution_count": 27,
     "metadata": {},
     "output_type": "execute_result"
    }
   ],
   "source": [
    "#Theoretical\n",
    "s_order_time = 60 - (10 + 15)\n",
    "s_enough_time = stats.norm(15 * 2, 3 * 2).cdf(s_order_time)\n",
    "s_enough_time"
   ]
  },
  {
   "cell_type": "code",
   "execution_count": 40,
   "metadata": {},
   "outputs": [],
   "source": [
    "#7\n",
    "from env import host, user, password\n",
    "\n",
    "url = f'mysql+pymysql://{user}:{password}@{host}/employees'\n",
    "query = '''\n",
    "SELECT *\n",
    "FROM salaries s\n",
    "WHERE emp_no IN (\n",
    "    SELECT emp_no FROM dept_emp\n",
    "    WHERE to_date > NOW()\n",
    ") AND to_date > NOW()\n",
    "'''"
   ]
  },
  {
   "cell_type": "code",
   "execution_count": 42,
   "metadata": {
    "scrolled": true
   },
   "outputs": [
    {
     "data": {
      "text/html": [
       "<div>\n",
       "<style scoped>\n",
       "    .dataframe tbody tr th:only-of-type {\n",
       "        vertical-align: middle;\n",
       "    }\n",
       "\n",
       "    .dataframe tbody tr th {\n",
       "        vertical-align: top;\n",
       "    }\n",
       "\n",
       "    .dataframe thead th {\n",
       "        text-align: right;\n",
       "    }\n",
       "</style>\n",
       "<table border=\"1\" class=\"dataframe\">\n",
       "  <thead>\n",
       "    <tr style=\"text-align: right;\">\n",
       "      <th></th>\n",
       "      <th>emp_no</th>\n",
       "      <th>salary</th>\n",
       "      <th>from_date</th>\n",
       "      <th>to_date</th>\n",
       "    </tr>\n",
       "  </thead>\n",
       "  <tbody>\n",
       "    <tr>\n",
       "      <th>0</th>\n",
       "      <td>10001</td>\n",
       "      <td>88958</td>\n",
       "      <td>2002-06-22</td>\n",
       "      <td>9999-01-01</td>\n",
       "    </tr>\n",
       "    <tr>\n",
       "      <th>1</th>\n",
       "      <td>10002</td>\n",
       "      <td>72527</td>\n",
       "      <td>2001-08-02</td>\n",
       "      <td>9999-01-01</td>\n",
       "    </tr>\n",
       "    <tr>\n",
       "      <th>2</th>\n",
       "      <td>10003</td>\n",
       "      <td>43311</td>\n",
       "      <td>2001-12-01</td>\n",
       "      <td>9999-01-01</td>\n",
       "    </tr>\n",
       "    <tr>\n",
       "      <th>3</th>\n",
       "      <td>10004</td>\n",
       "      <td>74057</td>\n",
       "      <td>2001-11-27</td>\n",
       "      <td>9999-01-01</td>\n",
       "    </tr>\n",
       "    <tr>\n",
       "      <th>4</th>\n",
       "      <td>10005</td>\n",
       "      <td>94692</td>\n",
       "      <td>2001-09-09</td>\n",
       "      <td>9999-01-01</td>\n",
       "    </tr>\n",
       "  </tbody>\n",
       "</table>\n",
       "</div>"
      ],
      "text/plain": [
       "   emp_no  salary   from_date     to_date\n",
       "0   10001   88958  2002-06-22  9999-01-01\n",
       "1   10002   72527  2001-08-02  9999-01-01\n",
       "2   10003   43311  2001-12-01  9999-01-01\n",
       "3   10004   74057  2001-11-27  9999-01-01\n",
       "4   10005   94692  2001-09-09  9999-01-01"
      ]
     },
     "execution_count": 42,
     "metadata": {},
     "output_type": "execute_result"
    }
   ],
   "source": [
    "employee_salary = pd.read_sql(query, url)\n",
    "employee_salary.head()"
   ]
  },
  {
   "cell_type": "code",
   "execution_count": 46,
   "metadata": {},
   "outputs": [
    {
     "data": {
      "text/plain": [
       "0.270614349252886"
      ]
     },
     "execution_count": 46,
     "metadata": {},
     "output_type": "execute_result"
    }
   ],
   "source": [
    "#7a\n",
    "#Experimental\n",
    "less_than_60k = employee_salary.salary <= 60000\n",
    "less_than_60k.mean()"
   ]
  },
  {
   "cell_type": "code",
   "execution_count": 52,
   "metadata": {},
   "outputs": [
    {
     "data": {
      "text/plain": [
       "0.24385742480214423"
      ]
     },
     "execution_count": 52,
     "metadata": {},
     "output_type": "execute_result"
    }
   ],
   "source": [
    "#Theoretical\n",
    "mean_salary = employee_salary.salary.mean()\n",
    "std_salary = employee_salary.salary.std()\n",
    "\n",
    "s_less_than_60k = stats.norm(mean_salary, std_salary).cdf(60000)\n",
    "s_less_than_60k"
   ]
  },
  {
   "cell_type": "code",
   "execution_count": 53,
   "metadata": {},
   "outputs": [
    {
     "data": {
      "text/plain": [
       "0.10863137379020839"
      ]
     },
     "execution_count": 53,
     "metadata": {},
     "output_type": "execute_result"
    }
   ],
   "source": [
    "#7b\n",
    "#Experimental\n",
    "greater_than_95k = employee_salary.salary >= 95000\n",
    "greater_than_95k.mean()"
   ]
  },
  {
   "cell_type": "code",
   "execution_count": 58,
   "metadata": {},
   "outputs": [
    {
     "data": {
      "text/plain": [
       "0.09208819199804053"
      ]
     },
     "execution_count": 58,
     "metadata": {},
     "output_type": "execute_result"
    }
   ],
   "source": [
    "#Theoretical\n",
    "s_greater_than_95k = stats.norm(mean_salary, std_salary).sf(95000)\n",
    "s_greater_than_95k"
   ]
  },
  {
   "cell_type": "code",
   "execution_count": 91,
   "metadata": {},
   "outputs": [
    {
     "data": {
      "text/plain": [
       "0.32515700221552196"
      ]
     },
     "execution_count": 91,
     "metadata": {},
     "output_type": "execute_result"
    }
   ],
   "source": [
    "#7c\n",
    "#Experimental\n",
    "between_80k_and_65k = (employee_salary.salary >= 65000) & (employee_salary.salary <= 80000)\n",
    "between_80k_and_65k.mean()"
   ]
  },
  {
   "cell_type": "code",
   "execution_count": 96,
   "metadata": {},
   "outputs": [
    {
     "data": {
      "text/plain": [
       "0.3350605685446666"
      ]
     },
     "execution_count": 96,
     "metadata": {},
     "output_type": "execute_result"
    }
   ],
   "source": [
    "#Theoretical\n",
    "s_65k = stats.norm(mean_salary, std_salary).cdf(65000)\n",
    "s_80k = stats.norm(mean_salary, std_salary).cdf(80000)\n",
    "s_between_80k_and_65k = s_80k - s_65k\n",
    "s_between_80k_and_65k"
   ]
  },
  {
   "cell_type": "code",
   "execution_count": 92,
   "metadata": {},
   "outputs": [
    {
     "data": {
      "text/plain": [
       "104225.84999999998"
      ]
     },
     "execution_count": 92,
     "metadata": {},
     "output_type": "execute_result"
    }
   ],
   "source": [
    "#7d\n",
    "#Experimental\n",
    "top_5_percent = employee_salary.salary.quantile(.95)\n",
    "top_5_percent"
   ]
  },
  {
   "cell_type": "code",
   "execution_count": 93,
   "metadata": {},
   "outputs": [
    {
     "data": {
      "text/plain": [
       "100484.64454102777"
      ]
     },
     "execution_count": 93,
     "metadata": {},
     "output_type": "execute_result"
    }
   ],
   "source": [
    "#Theoretical\n",
    "s_top_5_percent = stats.norm(mean_salary, std_salary).isf(.05)\n",
    "s_top_5_percent"
   ]
  },
  {
   "cell_type": "code",
   "execution_count": null,
   "metadata": {},
   "outputs": [],
   "source": []
  }
 ],
 "metadata": {
  "kernelspec": {
   "display_name": "Python 3",
   "language": "python",
   "name": "python3"
  },
  "language_info": {
   "codemirror_mode": {
    "name": "ipython",
    "version": 3
   },
   "file_extension": ".py",
   "mimetype": "text/x-python",
   "name": "python",
   "nbconvert_exporter": "python",
   "pygments_lexer": "ipython3",
   "version": "3.8.3"
  }
 },
 "nbformat": 4,
 "nbformat_minor": 4
}
