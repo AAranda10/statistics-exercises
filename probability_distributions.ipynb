{
 "cells": [
  {
   "cell_type": "code",
   "execution_count": 30,
   "metadata": {},
   "outputs": [],
   "source": [
    "import matplotlib.pyplot as plt\n",
    "import numpy as np\n",
    "import pandas as pd\n",
    "from scipy import stats"
   ]
  },
  {
   "cell_type": "code",
   "execution_count": 145,
   "metadata": {},
   "outputs": [
    {
     "data": {
      "text/plain": [
       "0.1351"
      ]
     },
     "execution_count": 145,
     "metadata": {},
     "output_type": "execute_result"
    }
   ],
   "source": [
    "#1a\n",
    "#Experimental\n",
    "#First I used random.poisson to get the poisson distribution and set it to the mean of 2\n",
    "cars = np.random.poisson(2, 100000)\n",
    "#Then I wanted only the values equal to 2\n",
    "no_cars = cars == 0\n",
    "no_cars.mean()"
   ]
  },
  {
   "cell_type": "code",
   "execution_count": 32,
   "metadata": {},
   "outputs": [
    {
     "data": {
      "text/plain": [
       "0.1353352832366127"
      ]
     },
     "execution_count": 32,
     "metadata": {},
     "output_type": "execute_result"
    }
   ],
   "source": [
    "#Theoretical\n",
    "#I used the poisson function to create a poisson distribution\n",
    "#Then pmf to return the probability of getting 0\n",
    "s_cars = stats.poisson(2).pmf(0)\n",
    "s_cars"
   ]
  },
  {
   "cell_type": "code",
   "execution_count": 144,
   "metadata": {},
   "outputs": [
    {
     "data": {
      "text/plain": [
       "0.32518"
      ]
     },
     "execution_count": 144,
     "metadata": {},
     "output_type": "execute_result"
    }
   ],
   "source": [
    "#1b\n",
    "#Experimental\n",
    "#Same method as above, just changed the == 0 to >= 3 to return only the values True if greater than equal 3\n",
    "cars = np.random.poisson(2, 100000)\n",
    "no_cars = cars >= 3\n",
    "no_cars.mean()"
   ]
  },
  {
   "cell_type": "code",
   "execution_count": 34,
   "metadata": {},
   "outputs": [
    {
     "data": {
      "text/plain": [
       "0.32332358381693654"
      ]
     },
     "execution_count": 34,
     "metadata": {},
     "output_type": "execute_result"
    }
   ],
   "source": [
    "#Theoretical\n",
    "#This time I used the sf function to return the probability for any number greater than 2 which is 3 or higher\n",
    "s_cars = stats.poisson(2).sf(2)\n",
    "s_cars"
   ]
  },
  {
   "cell_type": "code",
   "execution_count": 143,
   "metadata": {},
   "outputs": [
    {
     "data": {
      "text/plain": [
       "0.86588"
      ]
     },
     "execution_count": 143,
     "metadata": {},
     "output_type": "execute_result"
    }
   ],
   "source": [
    "#1c\n",
    "#Experimental\n",
    "cars = np.random.poisson(2, 100000)\n",
    "#Then I wanted only the values greater than 0 for at least 1 car arrived\n",
    "no_cars = cars > 0\n",
    "no_cars.mean()"
   ]
  },
  {
   "cell_type": "code",
   "execution_count": 36,
   "metadata": {},
   "outputs": [
    {
     "data": {
      "text/plain": [
       "0.8646647167633873"
      ]
     },
     "execution_count": 36,
     "metadata": {},
     "output_type": "execute_result"
    }
   ],
   "source": [
    "#Theoretical\n",
    "#This time I used the sf function to return the probability for at least 1 car or more arrives\n",
    "s_cars = stats.poisson(2).sf(0)\n",
    "s_cars"
   ]
  },
  {
   "cell_type": "code",
   "execution_count": 142,
   "metadata": {},
   "outputs": [
    {
     "data": {
      "text/plain": [
       "3.493698859255441"
      ]
     },
     "execution_count": 142,
     "metadata": {},
     "output_type": "execute_result"
    }
   ],
   "source": [
    "#2a\n",
    "#Experimental\n",
    "#I first decided I needed to use .random.normal because it is a normal distribution\n",
    "#Then I inputed the mean and standard deviation\n",
    "grades = np.random.normal(3.0, .3, 100000)\n",
    "#From here, it was easier to switch the values into a panda series to easily grab the top 5 percent using quantile\n",
    "pd.Series(grades).quantile(.95)"
   ]
  },
  {
   "cell_type": "code",
   "execution_count": 135,
   "metadata": {},
   "outputs": [
    {
     "data": {
      "text/plain": [
       "3.4934560880854417"
      ]
     },
     "execution_count": 135,
     "metadata": {},
     "output_type": "execute_result"
    }
   ],
   "source": [
    "#Theoretical\n",
    "#Same as above, once I figured out it was a normal distribution, I used the .norm to reflect\n",
    "#Then put it the mean and sd\n",
    "#Lastly I used the ppf function to input the percentage I wanted to return the value for that percentage\n",
    "s_grades = stats.norm(3.0, .3).ppf(.95)\n",
    "s_grades"
   ]
  },
  {
   "cell_type": "code",
   "execution_count": 141,
   "metadata": {},
   "outputs": [
    {
     "data": {
      "text/plain": [
       "2.6897445162826483"
      ]
     },
     "execution_count": 141,
     "metadata": {},
     "output_type": "execute_result"
    }
   ],
   "source": [
    "#2b\n",
    "#Experimental\n",
    "#Same as above, just changed the value to return the 15 percent\n",
    "grades = np.random.normal(3.0, .3, 100000)\n",
    "pd.Series(grades).quantile(.15)"
   ]
  },
  {
   "cell_type": "code",
   "execution_count": 134,
   "metadata": {},
   "outputs": [
    {
     "data": {
      "text/plain": [
       "2.689069983151863"
      ]
     },
     "execution_count": 134,
     "metadata": {},
     "output_type": "execute_result"
    }
   ],
   "source": [
    "#Theoretical\n",
    "#This time I used the ppf function because it will include 15 percent and below\n",
    "s_grades = stats.norm(3.0, .3).ppf(.15)\n",
    "s_grades"
   ]
  },
  {
   "cell_type": "code",
   "execution_count": 139,
   "metadata": {},
   "outputs": [
    {
     "data": {
      "text/plain": [
       "2.843136296092573"
      ]
     },
     "execution_count": 139,
     "metadata": {},
     "output_type": "execute_result"
    }
   ],
   "source": [
    "#2c\n",
    "#Experimental\n",
    "#Same as above, but I used the 30th percentile to cover the 3rd decile\n",
    "grades = np.random.normal(3.0, .3, 100000)\n",
    "pd.Series(grades).quantile(.30)"
   ]
  },
  {
   "cell_type": "code",
   "execution_count": 136,
   "metadata": {},
   "outputs": [
    {
     "data": {
      "text/plain": [
       "2.842679846187588"
      ]
     },
     "execution_count": 136,
     "metadata": {},
     "output_type": "execute_result"
    }
   ],
   "source": [
    "#Theoretical\n",
    "#I used the ppf to cover the bottom 30 percentile\n",
    "#Yes a 2.8 would barely qualify for a scholarship since it's 2.84 and below.\n",
    "s_grades = stats.norm(3.0, .3).ppf(.30)\n",
    "s_grades"
   ]
  },
  {
   "cell_type": "code",
   "execution_count": 140,
   "metadata": {},
   "outputs": [
    {
     "data": {
      "text/plain": [
       "3.4948239265401644"
      ]
     },
     "execution_count": 140,
     "metadata": {},
     "output_type": "execute_result"
    }
   ],
   "source": [
    "#2c\n",
    "#Experimental\n",
    "#This was already answered above with the top 5 percent question\n",
    "# The student would be in the 95th percentile\n",
    "grades = np.random.normal(3.0, .3, 100000)\n",
    "pd.Series(grades).quantile(.95)"
   ]
  },
  {
   "cell_type": "code",
   "execution_count": 138,
   "metadata": {},
   "outputs": [
    {
     "data": {
      "text/plain": [
       "3.4934560880854417"
      ]
     },
     "execution_count": 138,
     "metadata": {},
     "output_type": "execute_result"
    }
   ],
   "source": [
    "#Theoritcal\n",
    "#Same as above\n",
    "s_grades = stats.norm(3.0, .3).ppf(.95)\n",
    "s_grades"
   ]
  },
  {
   "cell_type": "code",
   "execution_count": 160,
   "metadata": {},
   "outputs": [
    {
     "data": {
      "text/plain": [
       "0.02182"
      ]
     },
     "execution_count": 160,
     "metadata": {},
     "output_type": "execute_result"
    }
   ],
   "source": [
    "#3\n",
    "#Experimental\n",
    "#For this question, I first had to figure out what type of distribution it was, I figured binomial since it's based on attempts vs successes\n",
    "#Then I inputed the data provided to be 4326 attempts and the percent of success\n",
    "clicks = np.random.binomial(4326, .02, 100000)\n",
    "#After that, I wanted to return the odds of getting 97 clicks\n",
    "one_day_clicks = clicks == 97\n",
    "one_day_clicks.mean()"
   ]
  },
  {
   "cell_type": "code",
   "execution_count": 161,
   "metadata": {},
   "outputs": [
    {
     "data": {
      "text/plain": [
       "0.02194293045425609"
      ]
     },
     "execution_count": 161,
     "metadata": {},
     "output_type": "execute_result"
    }
   ],
   "source": [
    "#Theoretical\n",
    "#Same concept as above, but using the stats function for binomial and submitting the inputs to return the probability\n",
    "s_clicks = stats.binom(4326, .02).pmf(97)\n",
    "s_clicks"
   ]
  },
  {
   "cell_type": "code",
   "execution_count": 186,
   "metadata": {},
   "outputs": [
    {
     "data": {
      "text/plain": [
       "0.45709"
      ]
     },
     "execution_count": 186,
     "metadata": {},
     "output_type": "execute_result"
    }
   ],
   "source": [
    "#4\n",
    "#experimental\n",
    "#I first needed to figure out how many answer choices the student could randomly pick from\n",
    "#I figured this out with simple math, there are up to the hundreth decimal place, each place has 10 numbers\n",
    "# 10 * 10 is 100 and there are 100 answer choices so in total, there are 10,000 answer options in all\n",
    "chance = 1 / 100\n",
    "answers = np.random.binomial(60, chance, 100000)\n",
    "got_one_right = answers >= 1\n",
    "got_one_right.mean()"
   ]
  },
  {
   "cell_type": "code",
   "execution_count": 187,
   "metadata": {},
   "outputs": [
    {
     "data": {
      "text/plain": [
       "0.4528433576092388"
      ]
     },
     "execution_count": 187,
     "metadata": {},
     "output_type": "execute_result"
    }
   ],
   "source": [
    "#Theoretical\n",
    "s_got_one_right = stats.binom(60, chance).sf(0)\n",
    "s_got_one_right"
   ]
  },
  {
   "cell_type": "code",
   "execution_count": null,
   "metadata": {},
   "outputs": [],
   "source": []
  },
  {
   "cell_type": "code",
   "execution_count": null,
   "metadata": {},
   "outputs": [],
   "source": []
  }
 ],
 "metadata": {
  "kernelspec": {
   "display_name": "Python 3",
   "language": "python",
   "name": "python3"
  },
  "language_info": {
   "codemirror_mode": {
    "name": "ipython",
    "version": 3
   },
   "file_extension": ".py",
   "mimetype": "text/x-python",
   "name": "python",
   "nbconvert_exporter": "python",
   "pygments_lexer": "ipython3",
   "version": "3.8.3"
  }
 },
 "nbformat": 4,
 "nbformat_minor": 4
}
